{
 "cells": [
  {
   "cell_type": "code",
   "execution_count": null,
   "metadata": {},
   "outputs": [],
   "source": [
    "import gym\n",
    "import gym_blackjack\n",
    "from td_lambda_search import TD_Lambda_Search"
   ]
  },
  {
   "cell_type": "markdown",
   "metadata": {},
   "source": [
    "<h3>The Agent</h3>"
   ]
  },
  {
   "cell_type": "code",
   "execution_count": null,
   "metadata": {},
   "outputs": [],
   "source": [
    "# The agent is designed to be very easy\n",
    "# to instantiate and begin learning. Hyperparameter\n",
    "# selection and loading previous models are both\n",
    "# available, but not required.\n",
    "\n",
    "env = gym.make('blackjack-v0')\n",
    "env.reset()\n",
    "agent = TD_Lambda_Search(env)"
   ]
  },
  {
   "cell_type": "code",
   "execution_count": null,
   "metadata": {},
   "outputs": [],
   "source": [
    "for i in range(1):\n",
    "    agent.one_game()"
   ]
  },
  {
   "cell_type": "code",
   "execution_count": null,
   "metadata": {},
   "outputs": [],
   "source": [
    "agent.critic.save(\"test_td_lambda\")"
   ]
  },
  {
   "cell_type": "markdown",
   "metadata": {},
   "source": [
    "<h3>Evaluation</h3>\n",
    "\n",
    "Blackjack is a solved game with a mathematically-proven optimal strategy. We will evaluate the RL agent based on its convergence to this optimal strategy. To do this, we will create a DataFrame containing every possible state and the right correct play, then pass each state to the model to predict."
   ]
  },
  {
   "cell_type": "code",
   "execution_count": null,
   "metadata": {
    "scrolled": true
   },
   "outputs": [],
   "source": [
    "from itertools import product\n",
    "\n",
    "states_list = list(product(range(12,22), range(2,11), range(2), [0]))\n",
    "states_aces = list(product(range(12,22), [11], range(2), [1]))\n",
    "\n",
    "states_list.extend(states_aces)\n",
    "\n",
    "print(states_list)"
   ]
  },
  {
   "cell_type": "code",
   "execution_count": null,
   "metadata": {},
   "outputs": [],
   "source": [
    "import pandas as pd\n",
    "\n",
    "df = pd.DataFrame(data=states_list, columns=['Player Value', 'Dealer Upcard', 'Player Ace', 'Dealer Ace'])"
   ]
  },
  {
   "cell_type": "code",
   "execution_count": null,
   "metadata": {
    "scrolled": true
   },
   "outputs": [],
   "source": [
    "df.head()"
   ]
  },
  {
   "cell_type": "code",
   "execution_count": null,
   "metadata": {},
   "outputs": [],
   "source": [
    "# Initialize the Correct Action column full of hits\n",
    "# Initialize the Agent column arbitrarily\n",
    "df['Correct'] = 1\n",
    "df['Agent'] = 0"
   ]
  },
  {
   "cell_type": "code",
   "execution_count": null,
   "metadata": {},
   "outputs": [],
   "source": [
    "# Modify the Correct Action column to include when it \n",
    "# is appropriate to stay (no double down or splits)\n",
    "# Taken from:\n",
    "# https://www.blackjackapprenticeship.com/blackjack-strategy-charts/\n",
    "\n",
    "df.loc[(df['Player Value'] >= 17) & (df['Player Ace'] == 0), 'Correct'] = 0\n",
    "df.loc[(df['Player Value'] >= 13) & (df['Player Ace'] == 0) &\\\n",
    "       (df['Player Value'] <= 16) & (df['Dealer Upcard'] <=6), 'Correct'] = 0\n",
    "df.loc[(df['Player Value'] == 12) & (df['Player Ace'] == 0) &\\\n",
    "       (df['Dealer Upcard'] >= 4) & (df['Dealer Upcard'] <=6), 'Correct'] = 0\n",
    "\n",
    "df.loc[(df['Player Value'] >= 19) & (df['Player Ace'] == 1), 'Correct'] = 0\n",
    "df.loc[(df['Player Value'] == 18) & (df['Player Ace'] == 1) &\\\n",
    "       (df['Dealer Upcard'] <= 8), 'Correct'] = 0"
   ]
  },
  {
   "cell_type": "code",
   "execution_count": null,
   "metadata": {},
   "outputs": [],
   "source": [
    "# Get the values that the model\n",
    "for i in range(len(states_list)):\n",
    "    df.iloc[i]['Agent'] = agent.greedy(states_list[i])"
   ]
  },
  {
   "cell_type": "code",
   "execution_count": null,
   "metadata": {},
   "outputs": [],
   "source": [
    "# Compare the Agent with a Mathematically Perfect Game\n",
    "\n",
    "df.head(400)"
   ]
  }
 ],
 "metadata": {
  "kernelspec": {
   "display_name": "Python 3",
   "language": "python",
   "name": "python3"
  },
  "language_info": {
   "codemirror_mode": {
    "name": "ipython",
    "version": 3
   },
   "file_extension": ".py",
   "mimetype": "text/x-python",
   "name": "python",
   "nbconvert_exporter": "python",
   "pygments_lexer": "ipython3",
   "version": "3.7.3"
  }
 },
 "nbformat": 4,
 "nbformat_minor": 2
}
