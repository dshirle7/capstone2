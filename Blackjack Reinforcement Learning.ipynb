{
 "cells": [
  {
   "cell_type": "code",
   "execution_count": 1,
   "metadata": {},
   "outputs": [],
   "source": [
    "import gym\n",
    "import gym_blackjack\n",
    "from monte_carlo_search import Monte_Carlo_Search"
   ]
  },
  {
   "cell_type": "markdown",
   "metadata": {},
   "source": [
    "<h3>The Agent</h3>"
   ]
  },
  {
   "cell_type": "code",
   "execution_count": 2,
   "metadata": {},
   "outputs": [],
   "source": [
    "# The agent is designed to be very easy\n",
    "# to instantiate and begin learning. Hyperparameter\n",
    "# selection and loading previous models are both\n",
    "# available, but not required.\n",
    "\n",
    "env = gym.make('blackjack-v0')\n",
    "env.reset()\n",
    "agent = Monte_Carlo_Search(env)"
   ]
  },
  {
   "cell_type": "code",
   "execution_count": 3,
   "metadata": {},
   "outputs": [],
   "source": [
    "for i in range(1):\n",
    "    agent.one_game()"
   ]
  },
  {
   "cell_type": "code",
   "execution_count": 4,
   "metadata": {},
   "outputs": [],
   "source": [
    "agent.value_fn.to_csv(\"trained_model.csv\")"
   ]
  },
  {
   "cell_type": "markdown",
   "metadata": {},
   "source": [
    "<h3>Evaluation</h3>\n",
    "\n",
    "Blackjack is a solved game with a mathematically-proven optimal strategy. We will evaluate the RL agent based on its convergence to this optimal strategy. To do this, we will create a DataFrame containing every possible state and the right correct play, then pass each state to the model to predict."
   ]
  },
  {
   "cell_type": "code",
   "execution_count": 5,
   "metadata": {},
   "outputs": [],
   "source": [
    "from itertools import product\n",
    "\n",
    "states_list = list(product(range(12,22), range(2,11), range(2), [0]))\n",
    "states_aces = list(product(range(12,22), [11], range(2), [1]))\n",
    "\n",
    "states_list.extend(states_aces)"
   ]
  },
  {
   "cell_type": "code",
   "execution_count": 6,
   "metadata": {},
   "outputs": [],
   "source": [
    "import pandas as pd\n",
    "\n",
    "df = pd.DataFrame(data=states_list, columns=['Player Value', 'Dealer Upcard', 'Player Ace', 'Dealer Ace'])\n",
    "df['State'] = df.apply(lambda x: tuple(x), axis=1)"
   ]
  },
  {
   "cell_type": "code",
   "execution_count": 7,
   "metadata": {
    "scrolled": true
   },
   "outputs": [
    {
     "data": {
      "text/html": [
       "<div>\n",
       "<style scoped>\n",
       "    .dataframe tbody tr th:only-of-type {\n",
       "        vertical-align: middle;\n",
       "    }\n",
       "\n",
       "    .dataframe tbody tr th {\n",
       "        vertical-align: top;\n",
       "    }\n",
       "\n",
       "    .dataframe thead th {\n",
       "        text-align: right;\n",
       "    }\n",
       "</style>\n",
       "<table border=\"1\" class=\"dataframe\">\n",
       "  <thead>\n",
       "    <tr style=\"text-align: right;\">\n",
       "      <th></th>\n",
       "      <th>Player Value</th>\n",
       "      <th>Dealer Upcard</th>\n",
       "      <th>Player Ace</th>\n",
       "      <th>Dealer Ace</th>\n",
       "      <th>State</th>\n",
       "    </tr>\n",
       "  </thead>\n",
       "  <tbody>\n",
       "    <tr>\n",
       "      <th>0</th>\n",
       "      <td>12</td>\n",
       "      <td>2</td>\n",
       "      <td>0</td>\n",
       "      <td>0</td>\n",
       "      <td>(12, 2, 0, 0)</td>\n",
       "    </tr>\n",
       "    <tr>\n",
       "      <th>1</th>\n",
       "      <td>12</td>\n",
       "      <td>2</td>\n",
       "      <td>1</td>\n",
       "      <td>0</td>\n",
       "      <td>(12, 2, 1, 0)</td>\n",
       "    </tr>\n",
       "    <tr>\n",
       "      <th>2</th>\n",
       "      <td>12</td>\n",
       "      <td>3</td>\n",
       "      <td>0</td>\n",
       "      <td>0</td>\n",
       "      <td>(12, 3, 0, 0)</td>\n",
       "    </tr>\n",
       "    <tr>\n",
       "      <th>3</th>\n",
       "      <td>12</td>\n",
       "      <td>3</td>\n",
       "      <td>1</td>\n",
       "      <td>0</td>\n",
       "      <td>(12, 3, 1, 0)</td>\n",
       "    </tr>\n",
       "    <tr>\n",
       "      <th>4</th>\n",
       "      <td>12</td>\n",
       "      <td>4</td>\n",
       "      <td>0</td>\n",
       "      <td>0</td>\n",
       "      <td>(12, 4, 0, 0)</td>\n",
       "    </tr>\n",
       "  </tbody>\n",
       "</table>\n",
       "</div>"
      ],
      "text/plain": [
       "   Player Value  Dealer Upcard  Player Ace  Dealer Ace          State\n",
       "0            12              2           0           0  (12, 2, 0, 0)\n",
       "1            12              2           1           0  (12, 2, 1, 0)\n",
       "2            12              3           0           0  (12, 3, 0, 0)\n",
       "3            12              3           1           0  (12, 3, 1, 0)\n",
       "4            12              4           0           0  (12, 4, 0, 0)"
      ]
     },
     "execution_count": 7,
     "metadata": {},
     "output_type": "execute_result"
    }
   ],
   "source": [
    "df.head()"
   ]
  },
  {
   "cell_type": "code",
   "execution_count": 8,
   "metadata": {},
   "outputs": [],
   "source": [
    "# Initialize the Correct Action column full of hits\n",
    "df['Correct'] = 1"
   ]
  },
  {
   "cell_type": "code",
   "execution_count": 9,
   "metadata": {},
   "outputs": [],
   "source": [
    "# Modify the Correct Action column to include when it \n",
    "# is appropriate to stay (no double down or splits)\n",
    "# Taken from:\n",
    "# https://www.blackjackapprenticeship.com/blackjack-strategy-charts/\n",
    "\n",
    "df.loc[(df['Player Value'] >= 17) & (df['Player Ace'] == 0), 'Correct'] = 0\n",
    "df.loc[(df['Player Value'] >= 13) & (df['Player Ace'] == 0) &\\\n",
    "       (df['Player Value'] <= 16) & (df['Dealer Upcard'] <=6), 'Correct'] = 0\n",
    "df.loc[(df['Player Value'] == 12) & (df['Player Ace'] == 0) &\\\n",
    "       (df['Dealer Upcard'] >= 4) & (df['Dealer Upcard'] <=6), 'Correct'] = 0\n",
    "\n",
    "df.loc[(df['Player Value'] >= 19) & (df['Player Ace'] == 1), 'Correct'] = 0\n",
    "df.loc[(df['Player Value'] == 18) & (df['Player Ace'] == 1) &\\\n",
    "       (df['Dealer Upcard'] <= 8), 'Correct'] = 0"
   ]
  },
  {
   "cell_type": "code",
   "execution_count": 10,
   "metadata": {},
   "outputs": [
    {
     "data": {
      "text/html": [
       "<div>\n",
       "<style scoped>\n",
       "    .dataframe tbody tr th:only-of-type {\n",
       "        vertical-align: middle;\n",
       "    }\n",
       "\n",
       "    .dataframe tbody tr th {\n",
       "        vertical-align: top;\n",
       "    }\n",
       "\n",
       "    .dataframe thead th {\n",
       "        text-align: right;\n",
       "    }\n",
       "</style>\n",
       "<table border=\"1\" class=\"dataframe\">\n",
       "  <thead>\n",
       "    <tr style=\"text-align: right;\">\n",
       "      <th></th>\n",
       "      <th>State</th>\n",
       "      <th>Correct</th>\n",
       "    </tr>\n",
       "  </thead>\n",
       "  <tbody>\n",
       "    <tr>\n",
       "      <th>0</th>\n",
       "      <td>(12, 2, 0, 0)</td>\n",
       "      <td>1</td>\n",
       "    </tr>\n",
       "    <tr>\n",
       "      <th>1</th>\n",
       "      <td>(12, 2, 1, 0)</td>\n",
       "      <td>1</td>\n",
       "    </tr>\n",
       "    <tr>\n",
       "      <th>2</th>\n",
       "      <td>(12, 3, 0, 0)</td>\n",
       "      <td>1</td>\n",
       "    </tr>\n",
       "    <tr>\n",
       "      <th>3</th>\n",
       "      <td>(12, 3, 1, 0)</td>\n",
       "      <td>1</td>\n",
       "    </tr>\n",
       "    <tr>\n",
       "      <th>4</th>\n",
       "      <td>(12, 4, 0, 0)</td>\n",
       "      <td>0</td>\n",
       "    </tr>\n",
       "  </tbody>\n",
       "</table>\n",
       "</div>"
      ],
      "text/plain": [
       "           State  Correct\n",
       "0  (12, 2, 0, 0)        1\n",
       "1  (12, 2, 1, 0)        1\n",
       "2  (12, 3, 0, 0)        1\n",
       "3  (12, 3, 1, 0)        1\n",
       "4  (12, 4, 0, 0)        0"
      ]
     },
     "execution_count": 10,
     "metadata": {},
     "output_type": "execute_result"
    }
   ],
   "source": [
    "df.drop(['Player Value', 'Dealer Upcard', 'Player Ace', 'Dealer Ace'], axis=1, inplace=True)\n",
    "\n",
    "df.head()"
   ]
  },
  {
   "cell_type": "code",
   "execution_count": 11,
   "metadata": {},
   "outputs": [
    {
     "data": {
      "text/html": [
       "<div>\n",
       "<style scoped>\n",
       "    .dataframe tbody tr th:only-of-type {\n",
       "        vertical-align: middle;\n",
       "    }\n",
       "\n",
       "    .dataframe tbody tr th {\n",
       "        vertical-align: top;\n",
       "    }\n",
       "\n",
       "    .dataframe thead th {\n",
       "        text-align: right;\n",
       "    }\n",
       "</style>\n",
       "<table border=\"1\" class=\"dataframe\">\n",
       "  <thead>\n",
       "    <tr style=\"text-align: right;\">\n",
       "      <th></th>\n",
       "      <th>Unnamed: 0</th>\n",
       "      <th>State</th>\n",
       "      <th>1_win</th>\n",
       "      <th>1_count</th>\n",
       "      <th>0_win</th>\n",
       "      <th>0_count</th>\n",
       "      <th>1_ratio</th>\n",
       "      <th>0_ratio</th>\n",
       "      <th>Agent</th>\n",
       "    </tr>\n",
       "  </thead>\n",
       "  <tbody>\n",
       "    <tr>\n",
       "      <th>0</th>\n",
       "      <td>0</td>\n",
       "      <td>(12, 2, 0, 0)</td>\n",
       "      <td>2684.5</td>\n",
       "      <td>7084</td>\n",
       "      <td>999.0</td>\n",
       "      <td>2837</td>\n",
       "      <td>0.378953</td>\n",
       "      <td>0.352133</td>\n",
       "      <td>1</td>\n",
       "    </tr>\n",
       "    <tr>\n",
       "      <th>1</th>\n",
       "      <td>1</td>\n",
       "      <td>(12, 2, 1, 0)</td>\n",
       "      <td>258.5</td>\n",
       "      <td>448</td>\n",
       "      <td>22.0</td>\n",
       "      <td>54</td>\n",
       "      <td>0.577009</td>\n",
       "      <td>0.407407</td>\n",
       "      <td>1</td>\n",
       "    </tr>\n",
       "    <tr>\n",
       "      <th>2</th>\n",
       "      <td>2</td>\n",
       "      <td>(12, 3, 0, 0)</td>\n",
       "      <td>2923.0</td>\n",
       "      <td>7549</td>\n",
       "      <td>363.0</td>\n",
       "      <td>974</td>\n",
       "      <td>0.387204</td>\n",
       "      <td>0.372690</td>\n",
       "      <td>1</td>\n",
       "    </tr>\n",
       "    <tr>\n",
       "      <th>3</th>\n",
       "      <td>3</td>\n",
       "      <td>(12, 3, 1, 0)</td>\n",
       "      <td>1.0</td>\n",
       "      <td>1</td>\n",
       "      <td>1.0</td>\n",
       "      <td>1</td>\n",
       "      <td>1.000000</td>\n",
       "      <td>1.000000</td>\n",
       "      <td>0</td>\n",
       "    </tr>\n",
       "    <tr>\n",
       "      <th>4</th>\n",
       "      <td>4</td>\n",
       "      <td>(12, 4, 0, 0)</td>\n",
       "      <td>813.5</td>\n",
       "      <td>2029</td>\n",
       "      <td>3871.0</td>\n",
       "      <td>9407</td>\n",
       "      <td>0.400936</td>\n",
       "      <td>0.411502</td>\n",
       "      <td>0</td>\n",
       "    </tr>\n",
       "  </tbody>\n",
       "</table>\n",
       "</div>"
      ],
      "text/plain": [
       "   Unnamed: 0          State   1_win  1_count   0_win  0_count   1_ratio  \\\n",
       "0           0  (12, 2, 0, 0)  2684.5     7084   999.0     2837  0.378953   \n",
       "1           1  (12, 2, 1, 0)   258.5      448    22.0       54  0.577009   \n",
       "2           2  (12, 3, 0, 0)  2923.0     7549   363.0      974  0.387204   \n",
       "3           3  (12, 3, 1, 0)     1.0        1     1.0        1  1.000000   \n",
       "4           4  (12, 4, 0, 0)   813.5     2029  3871.0     9407  0.400936   \n",
       "\n",
       "    0_ratio  Agent  \n",
       "0  0.352133      1  \n",
       "1  0.407407      1  \n",
       "2  0.372690      1  \n",
       "3  1.000000      0  \n",
       "4  0.411502      0  "
      ]
     },
     "execution_count": 11,
     "metadata": {},
     "output_type": "execute_result"
    }
   ],
   "source": [
    "# Prepare the agent's action choices\n",
    "\n",
    "agent = pd.read_csv(\"test_monte_carlo.csv\")\n",
    "\n",
    "agent['1_ratio'] = agent['1_win'] / agent['1_count']\n",
    "agent['0_ratio'] = agent['0_win'] / agent['0_count']\n",
    "\n",
    "agent['Agent'] = 0\n",
    "\n",
    "agent.loc[agent['1_ratio'] > agent['0_ratio'], 'Agent'] = 1\n",
    "\n",
    "agent.head()"
   ]
  },
  {
   "cell_type": "code",
   "execution_count": 12,
   "metadata": {},
   "outputs": [
    {
     "data": {
      "text/html": [
       "<div>\n",
       "<style scoped>\n",
       "    .dataframe tbody tr th:only-of-type {\n",
       "        vertical-align: middle;\n",
       "    }\n",
       "\n",
       "    .dataframe tbody tr th {\n",
       "        vertical-align: top;\n",
       "    }\n",
       "\n",
       "    .dataframe thead th {\n",
       "        text-align: right;\n",
       "    }\n",
       "</style>\n",
       "<table border=\"1\" class=\"dataframe\">\n",
       "  <thead>\n",
       "    <tr style=\"text-align: right;\">\n",
       "      <th></th>\n",
       "      <th>State</th>\n",
       "      <th>Correct</th>\n",
       "      <th>Agent</th>\n",
       "    </tr>\n",
       "  </thead>\n",
       "  <tbody>\n",
       "    <tr>\n",
       "      <th>3</th>\n",
       "      <td>(12, 3, 1, 0)</td>\n",
       "      <td>1</td>\n",
       "      <td>0</td>\n",
       "    </tr>\n",
       "    <tr>\n",
       "      <th>8</th>\n",
       "      <td>(12, 6, 0, 0)</td>\n",
       "      <td>0</td>\n",
       "      <td>1</td>\n",
       "    </tr>\n",
       "    <tr>\n",
       "      <th>109</th>\n",
       "      <td>(18, 2, 1, 0)</td>\n",
       "      <td>0</td>\n",
       "      <td>1</td>\n",
       "    </tr>\n",
       "    <tr>\n",
       "      <th>117</th>\n",
       "      <td>(18, 6, 1, 0)</td>\n",
       "      <td>0</td>\n",
       "      <td>1</td>\n",
       "    </tr>\n",
       "    <tr>\n",
       "      <th>193</th>\n",
       "      <td>(18, 11, 1, 1)</td>\n",
       "      <td>1</td>\n",
       "      <td>0</td>\n",
       "    </tr>\n",
       "  </tbody>\n",
       "</table>\n",
       "</div>"
      ],
      "text/plain": [
       "              State  Correct  Agent\n",
       "3     (12, 3, 1, 0)        1      0\n",
       "8     (12, 6, 0, 0)        0      1\n",
       "109   (18, 2, 1, 0)        0      1\n",
       "117   (18, 6, 1, 0)        0      1\n",
       "193  (18, 11, 1, 1)        1      0"
      ]
     },
     "execution_count": 12,
     "metadata": {},
     "output_type": "execute_result"
    }
   ],
   "source": [
    "# Compare the generated Agent with a mathematically perfect game\n",
    "# Show all places where the Agent is wrong\n",
    "\n",
    "df['Agent'] = agent['Agent']\n",
    "\n",
    "df[df['Correct'] != df['Agent']]"
   ]
  },
  {
   "cell_type": "markdown",
   "metadata": {},
   "source": [
    "<h3>Results</h3>\n",
    "\n",
    "Using an Agent trained on one million games, we find an agent that's accurate for 97.5% of possible game states, only disagreeing on a few rare states (where the player has a low value and an ace, or a high value and an ace.) We can fix these by having the agent play more Search games when it arrives on those states. We could also fix these by having it play more games overall, but that would be less efficient because we would be relying more on getting to this state by random chance rather than dwelling on it longer when it does arise."
   ]
  }
 ],
 "metadata": {
  "kernelspec": {
   "display_name": "Python 3",
   "language": "python",
   "name": "python3"
  },
  "language_info": {
   "codemirror_mode": {
    "name": "ipython",
    "version": 3
   },
   "file_extension": ".py",
   "mimetype": "text/x-python",
   "name": "python",
   "nbconvert_exporter": "python",
   "pygments_lexer": "ipython3",
   "version": "3.7.2"
  }
 },
 "nbformat": 4,
 "nbformat_minor": 2
}
